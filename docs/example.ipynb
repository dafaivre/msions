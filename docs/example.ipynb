{
    "cells": [
        {
            "cell_type": "markdown",
            "metadata": {},
            "source": [
                "# Example usage\n",
                "\n",
                "In this notebook, I will demonstrate how to use `msions` to create MS TIC and ion plots."
            ]
        },
        {
            "cell_type": "markdown",
            "metadata": {},
            "source": [
                "## Imports"
            ]
        },
        {
            "cell_type": "code",
            "execution_count": 5,
            "metadata": {},
            "outputs": [],
            "source": [
                "import msions.hardklor as hk"
            ]
        },
        {
            "cell_type": "markdown",
            "metadata": {},
            "source": [
                "## Read Hardklor file\n",
                "`hk2df` will read a Hardklor tab-delimited file into a pandas DataFrame. After import, all columns that can be converted to a numeric data type will be."
            ]
        },
        {
            "cell_type": "code",
            "execution_count": 6,
            "metadata": {},
            "outputs": [],
            "source": [
                "hk_df = hk.hk2df(\"plasma-EV-01_MS1_3sn.hk\")"
            ]
        },
        {
            "cell_type": "markdown",
            "metadata": {},
            "source": [
                "`summarize_df` will summarize the TIC in each scan from a Hardklor pandas DataFrame or Hardklor tab-delimited file. "
            ]
        },
        {
            "cell_type": "code",
            "execution_count": 7,
            "metadata": {},
            "outputs": [
                {
                    "data": {
                        "text/html": [
                            "<div>\n",
                            "<style scoped>\n",
                            "    .dataframe tbody tr th:only-of-type {\n",
                            "        vertical-align: middle;\n",
                            "    }\n",
                            "\n",
                            "    .dataframe tbody tr th {\n",
                            "        vertical-align: top;\n",
                            "    }\n",
                            "\n",
                            "    .dataframe thead th {\n",
                            "        text-align: right;\n",
                            "    }\n",
                            "</style>\n",
                            "<table border=\"1\" class=\"dataframe\">\n",
                            "  <thead>\n",
                            "    <tr style=\"text-align: right;\">\n",
                            "      <th></th>\n",
                            "      <th>rt</th>\n",
                            "      <th>scan_num</th>\n",
                            "      <th>TIC</th>\n",
                            "    </tr>\n",
                            "  </thead>\n",
                            "  <tbody>\n",
                            "    <tr>\n",
                            "      <th>0</th>\n",
                            "      <td>0.0051</td>\n",
                            "      <td>1</td>\n",
                            "      <td>14409796</td>\n",
                            "    </tr>\n",
                            "    <tr>\n",
                            "      <th>1</th>\n",
                            "      <td>0.0574</td>\n",
                            "      <td>152</td>\n",
                            "      <td>15346213</td>\n",
                            "    </tr>\n",
                            "    <tr>\n",
                            "      <th>2</th>\n",
                            "      <td>0.1091</td>\n",
                            "      <td>303</td>\n",
                            "      <td>16216937</td>\n",
                            "    </tr>\n",
                            "    <tr>\n",
                            "      <th>3</th>\n",
                            "      <td>0.1607</td>\n",
                            "      <td>454</td>\n",
                            "      <td>16422145</td>\n",
                            "    </tr>\n",
                            "    <tr>\n",
                            "      <th>4</th>\n",
                            "      <td>0.2124</td>\n",
                            "      <td>605</td>\n",
                            "      <td>15524068</td>\n",
                            "    </tr>\n",
                            "    <tr>\n",
                            "      <th>...</th>\n",
                            "      <td>...</td>\n",
                            "      <td>...</td>\n",
                            "      <td>...</td>\n",
                            "    </tr>\n",
                            "    <tr>\n",
                            "      <th>2493</th>\n",
                            "      <td>99.9866</td>\n",
                            "      <td>291311</td>\n",
                            "      <td>108058</td>\n",
                            "    </tr>\n",
                            "    <tr>\n",
                            "      <th>2494</th>\n",
                            "      <td>99.9897</td>\n",
                            "      <td>291312</td>\n",
                            "      <td>24495</td>\n",
                            "    </tr>\n",
                            "    <tr>\n",
                            "      <th>2495</th>\n",
                            "      <td>99.9927</td>\n",
                            "      <td>291313</td>\n",
                            "      <td>51831</td>\n",
                            "    </tr>\n",
                            "    <tr>\n",
                            "      <th>2496</th>\n",
                            "      <td>99.9958</td>\n",
                            "      <td>291314</td>\n",
                            "      <td>424145</td>\n",
                            "    </tr>\n",
                            "    <tr>\n",
                            "      <th>2497</th>\n",
                            "      <td>99.9989</td>\n",
                            "      <td>291315</td>\n",
                            "      <td>111484</td>\n",
                            "    </tr>\n",
                            "  </tbody>\n",
                            "</table>\n",
                            "<p>2498 rows × 3 columns</p>\n",
                            "</div>"
                        ],
                        "text/plain": [
                            "           rt  scan_num       TIC\n",
                            "0      0.0051         1  14409796\n",
                            "1      0.0574       152  15346213\n",
                            "2      0.1091       303  16216937\n",
                            "3      0.1607       454  16422145\n",
                            "4      0.2124       605  15524068\n",
                            "...       ...       ...       ...\n",
                            "2493  99.9866    291311    108058\n",
                            "2494  99.9897    291312     24495\n",
                            "2495  99.9927    291313     51831\n",
                            "2496  99.9958    291314    424145\n",
                            "2497  99.9989    291315    111484\n",
                            "\n",
                            "[2498 rows x 3 columns]"
                        ]
                    },
                    "execution_count": 7,
                    "metadata": {},
                    "output_type": "execute_result"
                }
            ],
            "source": [
                "hk.summarize_df(hk_df)"
            ]
        },
        {
            "cell_type": "markdown",
            "metadata": {},
            "source": [
                "If an additional pandas DataFrame is provided with the MS1 scan information, the ion injection time will be mapped to each scan."
            ]
        }
    ],
    "metadata": {
        "kernelspec": {
            "display_name": "Python 3.6.15 ('msions')",
            "language": "python",
            "name": "python3"
        },
        "language_info": {
            "codemirror_mode": {
                "name": "ipython",
                "version": 3
            },
            "file_extension": ".py",
            "mimetype": "text/x-python",
            "name": "python",
            "nbconvert_exporter": "python",
            "pygments_lexer": "ipython3",
            "version": "3.6.15"
        },
        "vscode": {
            "interpreter": {
                "hash": "4b0b7072702ab0f6a5b97b988c4db9d634fdda35e12e8d51bec93f66ff7f3df8"
            }
        }
    },
    "nbformat": 4,
    "nbformat_minor": 4
}
